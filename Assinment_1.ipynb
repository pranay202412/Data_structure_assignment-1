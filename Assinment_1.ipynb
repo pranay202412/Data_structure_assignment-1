{
  "nbformat": 4,
  "nbformat_minor": 0,
  "metadata": {
    "colab": {
      "provenance": []
    },
    "kernelspec": {
      "name": "python3",
      "display_name": "Python 3"
    },
    "language_info": {
      "name": "python"
    }
  },
  "cells": [
    {
      "cell_type": "code",
      "execution_count": null,
      "metadata": {
        "id": "pNzW_9mvk_A7",
        "colab": {
          "base_uri": "https://localhost:8080/"
        },
        "outputId": "0883d2af-5f60-4675-e9b2-a514ba9fcd60"
      },
      "outputs": [
        {
          "output_type": "execute_result",
          "data": {
            "text/plain": [
              "('marks', 'subject', 'book')"
            ]
          },
          "metadata": {},
          "execution_count": 2
        }
      ],
      "source": [
        "# Problem 1\n",
        "#Write to code reverse a string\n",
        "\n",
        "text = \"book\",\"subject\",\"marks\",\n",
        "\n",
        "text[::-1]"
      ]
    },
    {
      "cell_type": "code",
      "source": [
        "#problem 2\n",
        "#write a code to count number of vowels in a string\n",
        "text = \"a\",\"e\",\"i\",\"o\",\"u\",\"A\",\"E\",\"I\",\"O\",\"U\"\n",
        "\n",
        "len(text)\n",
        "\n"
      ],
      "metadata": {
        "colab": {
          "base_uri": "https://localhost:8080/"
        },
        "id": "90I96ROV18ol",
        "outputId": "2d9ef415-e4db-4c30-e801-57f767bb037d"
      },
      "execution_count": null,
      "outputs": [
        {
          "output_type": "execute_result",
          "data": {
            "text/plain": [
              "10"
            ]
          },
          "metadata": {},
          "execution_count": 5
        }
      ]
    },
    {
      "cell_type": "code",
      "source": [
        "# problem 3\n",
        "# Write a code to check if a given string is palindrome or not\n",
        "\n",
        "text = input(\"Enter a words: \")\n",
        "\n",
        "\n",
        "if text == text[::-1]:\n",
        "  print(\"This is palindrome\")\n",
        "else:\n",
        "  print(\"This is not palindrome\")\n"
      ],
      "metadata": {
        "id": "66TgiYg2275y"
      },
      "execution_count": null,
      "outputs": []
    },
    {
      "cell_type": "code",
      "source": [
        "# Problem number 4\n",
        "# write a code to check if two given strings are anograms to each other\n",
        "\n",
        "text1 = input(\"Enter a words: \")\n",
        "text2 = input(\"Enter a words: \")\n",
        "\n",
        "if Counter(text1) == Counter(text2):\n",
        "  print(\"This is anogram\")\n",
        "else:\n",
        "  print(\"This is not anogram\")\n"
      ],
      "metadata": {
        "id": "7s_ieId04uUq"
      },
      "execution_count": null,
      "outputs": []
    },
    {
      "cell_type": "code",
      "source": [
        "#problem no 5\n",
        "# Write a code to find all occurances of given substring within another string\n",
        "\n",
        "text = input(\"Enter a string::\")\n",
        "text2 = input(\"Enter a substring to find:\")\n",
        "\n",
        "if text == text2:\n",
        "  print(\"All occurances are same\")\n",
        "else:\n",
        "  print(\"All occurances are not same\")\n"
      ],
      "metadata": {
        "id": "CfCfiZw28kX_"
      },
      "execution_count": null,
      "outputs": []
    },
    {
      "cell_type": "code",
      "source": [
        "#Problem no 6\n",
        "#basic string compression using the counts of repeated characters\n",
        "\n",
        "s = str(input(\"Enter the characters here:-\"))\n",
        "count = 1\n",
        "\n",
        "for i in range (1, len(s)):\n",
        "  if s[i] == s[i-1]:\n",
        "    count += 1\n",
        "  else:\n",
        "    print((count,s[i-1]),end= \"\")\n",
        "    count = 1\n",
        "\n",
        "print((count,s[-1]))\n",
        "\n",
        "\n"
      ],
      "metadata": {
        "id": "GwYeQQgc9FCD"
      },
      "execution_count": null,
      "outputs": []
    },
    {
      "cell_type": "code",
      "source": [
        "#Problem no 7\n",
        "#write a code to determine if a string has all unique characters\n",
        "\n",
        "\n",
        "s = input(\"Enter the characters here: \")\n",
        "\n",
        "def has_unique_characters(s):\n",
        "    count = set()\n",
        "    for char in s:\n",
        "        if char in count:\n",
        "            return False\n",
        "        count.add(char)\n",
        "    return True\n",
        "\n",
        "if has_unique_characters(s):\n",
        "    print(\"All entered characters are unique.\")\n",
        "else:\n",
        "    print(\"The characters entered are not unique.\")\n",
        "\n",
        "\n"
      ],
      "metadata": {
        "id": "pILXZDRrkJ0W"
      },
      "execution_count": null,
      "outputs": []
    },
    {
      "cell_type": "code",
      "source": [
        "#problem no 8\n",
        "# Write a code to convert a given string to uppercase or lowercase\n",
        "\n",
        "text = input(\"Enter a string:\")\n",
        "\n",
        "if text.isupper():\n",
        "  print(text.lower())\n",
        "\n",
        "elif text.islower():\n",
        "  print(text.upper())\n",
        "\n",
        "else:\n",
        "  print(\"The string is mixed case, Write properly\")\n"
      ],
      "metadata": {
        "id": "4UKW4Fni9C-w"
      },
      "execution_count": null,
      "outputs": []
    },
    {
      "cell_type": "code",
      "source": [
        "#problem number 9\n",
        "\n",
        "#write a code to count number of word in string\n",
        "\n",
        "text = input()\n",
        "words = len(text)\n",
        "\n",
        "print(\"number of word:- \",words)"
      ],
      "metadata": {
        "id": "jLz1_LhpSjEE"
      },
      "execution_count": null,
      "outputs": []
    },
    {
      "cell_type": "code",
      "source": [
        "#problem number 10\n",
        "\n",
        "#write a code concanate two strings whthout using + operator\n",
        "\n",
        "text = \"Hello\"\n",
        "text2 = \"Wrold\"\n",
        "\n",
        "concat = \" \".join([text,text2])\n",
        "print(concat)"
      ],
      "metadata": {
        "id": "vIUNQjog-2_0"
      },
      "execution_count": null,
      "outputs": []
    },
    {
      "cell_type": "code",
      "source": [
        "#problem number 11\n",
        "\n",
        "#write a code to remove all occurrences of a specfic element from a list\n",
        "\n",
        "text = [1,2,3,4,4,4,4,4,5,5,5,5,\"pwskills\"]\n",
        "\n",
        "#for example we use 4 as a specfic element\n",
        "\n",
        "words = text.count(4)\n",
        "\n",
        "for i in range(words):\n",
        "  text.remove(4)\n",
        "print(text)\n",
        "\n",
        "\n"
      ],
      "metadata": {
        "id": "PynOaWIdWquv"
      },
      "execution_count": null,
      "outputs": []
    },
    {
      "cell_type": "code",
      "source": [
        "#problem number 12\n",
        "\n",
        "#write a code to find the second largest number in given list of integers\n",
        "\n",
        "number = int(input(\"Enter the number of element you want to add in list:\"))\n",
        "num = []\n",
        "\n",
        "for i in range(number):\n",
        "  element = int(input(\"Enter the element\"))\n",
        "  num.append(element)\n",
        "print(\"My list\",num)\n",
        "\n",
        "sorted_list = num.sort()\n",
        "print(\"Sorted list:\", sorted_list)\n",
        "\n",
        "second_largest = num[-2]\n",
        "print(\"Second largest number:- \",second_largest)\n"
      ],
      "metadata": {
        "id": "4Fga1QsUZoXs"
      },
      "execution_count": null,
      "outputs": []
    },
    {
      "cell_type": "code",
      "source": [
        "#problem no 13:\n",
        "#create a code to count the occurences of each element in a list and return a dictionary with elements as keys and their counts as values\n",
        "\n",
        "# Example list\n",
        "my_list = [1, 2, 3, 4, 1, 2, 1, 1, 3, 3]\n",
        "\n",
        "# Count occurrences using dictionary comprehension\n",
        "counts = {element: my_list.count(element) for element in my_list}\n",
        "\n",
        "print(counts)\n"
      ],
      "metadata": {
        "id": "boVx0ZHL5xsK"
      },
      "execution_count": null,
      "outputs": []
    },
    {
      "cell_type": "code",
      "source": [
        "#problem number 14\n",
        "#write a code to reverse a list in place without using any built in reverse function\n",
        "\n",
        "my_list = [1,2,3,4,5,6]\n",
        "\n",
        "for i in range(len(my_list) -1, -1, -1):\n",
        "  print(my_list[i], end = \" \" )\n"
      ],
      "metadata": {
        "id": "v3tHDlvnnWMU"
      },
      "execution_count": null,
      "outputs": []
    },
    {
      "cell_type": "code",
      "source": [
        "#problem no 15\n",
        "#implement a code to find and remove duplicates from a list while preserving the original order of elements\n",
        "\n",
        "my_list = [1,1,2,2,2,3,3,4,5,6]\n",
        "\n",
        "non_duplicate_values = set(my_list)\n",
        "\n",
        "original_order = list(non_duplicate_values)\n",
        "\n",
        "print(non_duplicate_values)\n",
        "\n"
      ],
      "metadata": {
        "id": "lsJCnWTC8yAk"
      },
      "execution_count": null,
      "outputs": []
    },
    {
      "cell_type": "code",
      "source": [
        "#prpblem no 16\n",
        "# Create a code to check if a given list is sorted (either in ascending or decending order ) or not\n",
        "\n",
        "def is_sorted(list1):\n",
        "\n",
        "if list1 == sorted():\n",
        "  print(\"The element sorted in ascending order\", list1)\n",
        "\n",
        "elif list1 == sorted(list1,reverse=true)\n",
        "  print(\"The element sorted in descending order\",list1)\n",
        "\n",
        "else:\n",
        "  print(\"Not sorted\")"
      ],
      "metadata": {
        "id": "Wki2rfTeoPVe"
      },
      "execution_count": null,
      "outputs": []
    },
    {
      "cell_type": "code",
      "source": [
        "#problem no 17---\n",
        "\n",
        "#write a code to merge two sorted lists into a single sorted list\n",
        "\n",
        "#Note:-  we are taking this below written numbers and characters as a example\n",
        "\n",
        "students = int(input(\"Enter a list:- \"))\n",
        "pizza = []\n",
        "\n",
        "students2 = int(input(\"Enter a second list:-\"))\n",
        "sandwich = []\n",
        "\n",
        "#input from first list\n",
        "for i in range(students):\n",
        "  number = int(input(\"Enter the element in first list:- \"))\n",
        "  pizza.append(number)\n",
        "\n",
        "#input from second list\n",
        "for j in range(students2):\n",
        "  number2 = int(input(\"Enter the element in first list:- \"))\n",
        "  sandwich.append(number2)\n",
        "\n",
        "  pizza.sort()\n",
        "  sandwich.sort()\n",
        "\n",
        "  final_execution = pizza + sandwich\n",
        "\n",
        "  print(\"First sorted List:- \", pizza)\n",
        "  print(\"Second sorted list:-\",sandwich)\n",
        "  print(\"Final sorted list:-\",final_execution)\n",
        "\n",
        "\n",
        "\n",
        "\n",
        "\n",
        "\n",
        "\n"
      ],
      "metadata": {
        "id": "1pHOs_UOnici"
      },
      "execution_count": null,
      "outputs": []
    },
    {
      "cell_type": "code",
      "source": [
        "#problem no 18\n",
        "\n",
        "#implement a code and find the intersection of two given lists\n",
        "\n",
        "\n",
        "#Example lists\n",
        "\n",
        "my_list1 = [1,2,2,3,5,6,5,6]\n",
        "my_list2 = [2,5,4,56,55,65,55,56]\n",
        "\n",
        "conversion = set(my_list1)\n",
        "conversion1 = set(my_list2)\n",
        "\n",
        "\n",
        "intersection_of_list = conversion.intersection(conversion1)\n",
        "\n",
        "print( \"intersection between two sets :-\",intersection_of_list)\n",
        "\n",
        "\n"
      ],
      "metadata": {
        "id": "QlSrIZt3a60w"
      },
      "execution_count": null,
      "outputs": []
    },
    {
      "cell_type": "code",
      "source": [
        "#problem number 19\n",
        "\n",
        "#create  a code to find the union of two lists without duplicates\n",
        "\n",
        "list1 = input(\"Enter the element in first list:-\").split()\n",
        "\n",
        "list2 = input(\"Enter the element in second list:-\").split()\n",
        "\n",
        "final_list = sorted(list(set(list1) | set(list2)))\n",
        "\n",
        "print(\"The union of final list:\",final_list)"
      ],
      "metadata": {
        "id": "NIgoL05GIzaK"
      },
      "execution_count": null,
      "outputs": []
    },
    {
      "cell_type": "code",
      "source": [
        "#Problem no 20\n",
        "#write a code to shuffle a given  list randomly without using any built-in-shuffle function\n",
        "\n",
        "def shuffle_list(arr):\n",
        "    shuffled_list = []\n",
        "    while len(arr) > 0:\n",
        "        random_index = random.randrange(0, len(arr))\n",
        "        shuffled_list.append(arr[random_index])\n",
        "        arr.pop(random_index)\n",
        "    return shuffled_list\n",
        "\n",
        "# Define the list outside the function\n",
        "my_random_list = [1, 2, 3, 4, 5, 6]\n",
        "\n",
        "# Call the function to shuffle the list\n",
        "shuffled_result = shuffle_list(my_random_list)\n",
        "\n",
        "print(\"Shuffled List:\", shuffled_result)\n",
        "\n"
      ],
      "metadata": {
        "id": "rMyNre9QEOvQ"
      },
      "execution_count": null,
      "outputs": []
    },
    {
      "cell_type": "code",
      "source": [
        "#Problem no 21\n",
        "# write a code that takes two tuples as input and returns a new tuple containing\n",
        "# element that are common to both input tuples\n",
        "\n",
        "text = int(input(\"Enter how many tuples  you want to enter in first box:- \"))\n",
        "tup=[]\n",
        "for x in range(text):\n",
        "    number= input(f\"Enter the numbers\")\n",
        "    tup.append(number)\n",
        "\n",
        "\n",
        "text2 = int(input(\"Enter the number of tuples you want to enter in second box:- \"))\n",
        "tup2 = []\n",
        "for y in range(text2):\n",
        "    number2 = input(\"Entet the element\")\n",
        "    tup2.append(number2)\n",
        "\n",
        "\n",
        "tuple_to_sets = set(tup)\n",
        "tuple_to_sets2 = set(tup2)\n",
        "\n",
        "common_in_both_sets = tuple_to_sets.intersection(tuple_to_sets2)\n",
        "\n",
        "\n",
        "common_elements_in_tuple = tuple(common_in_both_sets)\n",
        "\n",
        "\n",
        "print(\"Common elements betweeen both tuples:- \",common_elements_in_tuple)\n"
      ],
      "metadata": {
        "id": "Fbo5VNneXfws"
      },
      "execution_count": null,
      "outputs": []
    },
    {
      "cell_type": "code",
      "source": [
        "# Problem number 22\n",
        "# create a code that prompts the user to enter two sets of\n",
        "#integers separated by commas. Then, print the intersection of these two sets.\n",
        "\n",
        "x = {input(\"Enter set 1\")}\n",
        "y = {input(\"Enter set 2\")}\n",
        "\n",
        "z = x.intersection(y)\n",
        "\n",
        "print(z)\n",
        "\n"
      ],
      "metadata": {
        "id": "s0vQgIXm-7GT"
      },
      "execution_count": null,
      "outputs": []
    },
    {
      "cell_type": "code",
      "source": [
        "# problem number 23\n",
        "\n",
        "# write a code to concatnate two  tuples, The function should take two tuples as a input and\n",
        "#and return a new tuple containing elements from both input tuples\n",
        "\n",
        "text1 = (\"java\",\"python\",\"C\",\"C++\")\n",
        "\n",
        "text2 = (\"Data Science\", \"Machine learning\")\n",
        "\n",
        "concat = text1 + text2\n",
        "\n",
        "print(concat)"
      ],
      "metadata": {
        "id": "yYHp-uaT8NUq"
      },
      "execution_count": null,
      "outputs": []
    },
    {
      "cell_type": "code",
      "source": [
        "#Problem number 24\n",
        "# Develop a code that prompts the user to input two sets of strings,\n",
        "#Then print the elements that are present in first set but not in second set\n",
        "\n",
        "n1 = input(\"Enter a element in first box:- \")\n",
        "set1 = set(n1.split())\n",
        "\n",
        "n2 = input(\"Enter a element in second box:- \")\n",
        "set2 = set(n2.split())\n",
        "\n",
        "#print(\"First set of strings:\", set1)\n",
        "#print(\"Second set of strings:\", set2)\n",
        "\n",
        "\n",
        "final_list = set1.difference(set2)\n",
        "\n",
        "print(\"This element are present in first list but not in second :- \",final_list)\n"
      ],
      "metadata": {
        "id": "WhKzuGtffhSL"
      },
      "execution_count": null,
      "outputs": []
    },
    {
      "cell_type": "code",
      "source": [
        "#Problem no 25\n",
        "# Create a code that takes tuple and two integers as input.\n",
        "# The function should return a new tuple containing elements from\n",
        "#the original tuple within the specified range of indices.\n",
        "\n",
        "text = int(input(\"Enter how many numbers you want to enter in first box:- \"))\n",
        "tup=[]\n",
        "\n",
        "for x in range(text):\n",
        "    number= int(input(f\"Enter the numbers\"))\n",
        "    tup.append(number)\n",
        "\n",
        "\n",
        "text2 = int(input(\"Enter the number of element you want to enter in second box:- \"))\n",
        "tup2 = []\n",
        "\n",
        "for y in range(text2):\n",
        "    number2 = int(input(\"Entet the element\"))\n",
        "    tup2.append(number2)\n",
        "\n",
        "\n",
        "tuple_of_integer = tuple(tup)\n",
        "tuple_of_integer1 = tuple(tup2)\n",
        "\n",
        "additon_of_tuple = tuple_of_integer + tuple_of_integer1\n",
        "\n",
        "print(\"Addition of first and second box\", additon_of_tuple)\n",
        "\n",
        "\n"
      ],
      "metadata": {
        "id": "WYBl1x-FkOq7"
      },
      "execution_count": null,
      "outputs": []
    },
    {
      "cell_type": "code",
      "source": [
        "#problem number 26\n",
        "\n",
        "#write a code that prompts the user to input two sets of characters.\n",
        "#Then , print the union of these two sets\n",
        "\n",
        "set1_input = input(\"Write a words or nunbers you want to return in first list:-\")\n",
        "set1 = set(set1_input.split())\n",
        "\n",
        "set2_input = input(\"Write a words or numbers you want to return in second list\")\n",
        "set2 = set(set2_input.split())\n",
        "\n",
        "\n",
        "union = set1.union(set2_input)\n",
        "\n",
        "print(\"union of the set\",union)\n"
      ],
      "metadata": {
        "id": "WeknA0oB987R"
      },
      "execution_count": null,
      "outputs": []
    },
    {
      "cell_type": "code",
      "source": [
        "#problem number 27\n",
        "#develop a code that take a tuple of integer as input . The function should return\n",
        "#minimum and maximum values from the tuple using tuple unpacking\n",
        "\n",
        "tup=[]\n",
        "\n",
        "text = int(input(\"Enter how many numbers you want to enter\"))\n",
        "\n",
        "for x in range(text):\n",
        "\n",
        "    number= int(input(f\"Enter the numbers\"))\n",
        "    tup.append(number)\n",
        "\n",
        "\n",
        "tuple_of_integer = tuple(tup)\n",
        "\n",
        "sorted_value = sorted(tuple_of_integer)\n",
        "\n",
        "min_value, max_value = sorted_value[0], sorted_value[-1]\n",
        "\n",
        "\n",
        "print(\"The minimum value of tuple is:-\",min_value)\n",
        "\n",
        "print(\"The maximum value of tuple is:- \",max_value)\n"
      ],
      "metadata": {
        "id": "snENq8YoEucT"
      },
      "execution_count": null,
      "outputs": []
    },
    {
      "cell_type": "code",
      "source": [
        "#problem number 28\n",
        "# Create a code that defines two sets of integers.\n",
        "# Then print the union , intersection and difference of these two sets\n",
        "\n",
        "integer_set1 = {1,2,3,4,5,6}\n",
        "\n",
        "integer_set2 = {2,3,1,5,6,6,3,3,4}\n",
        "\n",
        "union = integer_set1.union(integer_set2)\n",
        "print(\"Union of two sets:- \",union )\n",
        "\n",
        "intersection = integer_set1.intersection(integer_set2)\n",
        "print(\"Intersection of two sets:- \",intersection)\n",
        "\n",
        "difference = integer_set1.difference(integer_set2)\n",
        "print(\"Difference of two sets:- \",difference)\n",
        "\n",
        "difference2 = integer_set2.difference(integer_set1)\n",
        "print(\"Difference of two sets:- \",difference2)"
      ],
      "metadata": {
        "id": "ndRYV6vCx0Pl"
      },
      "execution_count": null,
      "outputs": []
    },
    {
      "cell_type": "code",
      "source": [
        "# problem no 29\n",
        "#Write a code that takes a tuple and an element as input .\n",
        "#The function should return the count of occurrences of the given element\n",
        "#in the tuple\n",
        "\n",
        "def count_occurrences(input_tuple, element):\n",
        "    count = 0\n",
        "    for item in input_tuple:\n",
        "        if item == element:\n",
        "            count += 1\n",
        "    return count\n",
        "\n",
        "input_tuple = tuple(input(\"Enter elements of you want to enter: \").split())\n",
        "element_to_count = input(\"Enter the element : \")\n",
        "\n",
        "occurrences_count = count_occurrences(input_tuple, element_to_count)\n",
        "\n",
        "print(f\"The count of occurrences of '{element_to_count}' in the tuple is: {occurrences_count}\")\n"
      ],
      "metadata": {
        "id": "DDGdSWlWslc6"
      },
      "execution_count": null,
      "outputs": []
    },
    {
      "cell_type": "code",
      "source": [
        "#problem number 30\n",
        "# develop a code that prompts the user to input two sets of strings .\n",
        "#Then print the symentric differences of these two sets\n",
        "\n",
        "a = input(\"Enter the element 1st box;- \")\n",
        "\n",
        "b = input(\"Enter the element 2nd box:- \")\n",
        "\n",
        "#print(type(a))\n",
        "#print(type(b))\n",
        "\n",
        "conversion = set(a.split())\n",
        "conversion1 = set(b.split())\n",
        "\n",
        "symentric_difference = conversion ^ conversion1\n",
        "\n",
        "print(\"Symentric difference between two set is: \", symentric_difference)"
      ],
      "metadata": {
        "id": "zsCKPM9GB7-6"
      },
      "execution_count": null,
      "outputs": []
    },
    {
      "cell_type": "code",
      "source": [
        "# problem no 31\n",
        "\n",
        "# wite a code that takes  a list of words as input and returns a dictionary\n",
        "#where the keys are unique words and the values are the frequencies of\n",
        "# those words in the input list.\n",
        "\n",
        "def word_frequencies(word_list):\n",
        "    frequencies = {}\n",
        "    for word in word_list:\n",
        "        if word in frequencies:\n",
        "            frequencies[word] += 1\n",
        "        else:\n",
        "            frequencies[word] = 1\n",
        "    return frequencies\n",
        "\n",
        "# Example list of words\n",
        "word_list = [\"apple\", \"banana\", \"apple\", \"orange\", \"banana\", \"apple\"]\n",
        "\n",
        "# Get word frequencies\n",
        "word_freq_dict = word_frequencies(word_list)\n",
        "\n",
        "# Print the dictionary\n",
        "print(\"Word frequencies:\")\n",
        "print(word_freq_dict)\n"
      ],
      "metadata": {
        "id": "UrF7Bi5yB8lG"
      },
      "execution_count": null,
      "outputs": []
    },
    {
      "cell_type": "code",
      "source": [
        "#problem no 32\n",
        "# write  a code that takes two dictionaries as  input and merges them into a\n",
        "# singe dictionary.if there  are commen keys, the values should be added together\n",
        "\n",
        "\n",
        "n1 = int(input(\"Enter the total key-value pairs you wish to have in your dictionary:- \"))\n",
        "d1 = {}\n",
        "\n",
        "for i in range(0, n1, 1):\n",
        "    key = input(\"Enter the key:-\")\n",
        "    value = input(\"Enter the value:- \")\n",
        "    d1.update({key : value})\n",
        "print(\"Dictionary 1\",d1)\n",
        "\n",
        "\n",
        "n2 = int(input(\"Enter the total key-value pairs you wish to have in your dictionary:- \"))\n",
        "d2 = {}\n",
        "\n",
        "for i in range(0,n2,1):\n",
        "  key = input(\"Enter the key:- \")\n",
        "  value = input(\"Enter the value:- \")\n",
        "  d2.update({key : value})\n",
        "  print(\"Dictionary 2\",d2)\n",
        "\n",
        "final_list = d1.update(d2)\n",
        "\n",
        "\n",
        "\n"
      ],
      "metadata": {
        "id": "h3LfKzKWK1BU"
      },
      "execution_count": null,
      "outputs": []
    },
    {
      "cell_type": "code",
      "source": [
        "#problem no 33\n",
        "#write a code to access a value in a nested dictionary. The function should take the  dictionary and a list of keys as input, and return the corresponding value, if any o the keys do not exist in the dictionary, the function should returnt None\n",
        "\n",
        "def access_nested_dict(d, keys):\n",
        "    current_dict = d\n",
        "    for key in keys:\n",
        "        if key in current_dict:\n",
        "            current_dict = current_dict[key]\n",
        "        else:\n",
        "            return None\n",
        "    return current_dict\n",
        "\n",
        "# Example dictionary\n",
        "nested_dict = {\n",
        "    'a': {\n",
        "        'b': {\n",
        "            'c': 1,\n",
        "            'd': 2\n",
        "        },\n",
        "        'e': {\n",
        "            'f': 3,\n",
        "            'g': 4\n",
        "        }\n",
        "    }\n",
        "}\n",
        "\n",
        "# Example list of keys\n",
        "key_list = ['a', 'b', 'c']\n",
        "\n",
        "# Access the value\n",
        "value = access_nested_dict(nested_dict, key_list)\n",
        "\n",
        "# Print the value\n",
        "print(\"Value:\", value)\n",
        "\n"
      ],
      "metadata": {
        "colab": {
          "base_uri": "https://localhost:8080/"
        },
        "id": "B5kenUkelMQr",
        "outputId": "340e95e8-df60-4756-f11b-0e404206faf5"
      },
      "execution_count": 13,
      "outputs": [
        {
          "output_type": "stream",
          "name": "stdout",
          "text": [
            "Value: 1\n"
          ]
        }
      ]
    },
    {
      "cell_type": "code",
      "source": [
        "#problem no 34\n",
        "#write a code that takes a dictionary as input and returns a sorted version\n",
        "# of it based on the values. you can choose whether to sort in\n",
        "#ascending or descending order.\n",
        "\n",
        "\n",
        "n1 = int(input(\"Enter the total key-value pairs you wish to have in your dictionary:- \"))\n",
        "input_dict = {}\n",
        "\n",
        "\n",
        "for i in range(0, n1, 1):\n",
        "    key = input(\"Enter the key:-\")\n",
        "    value = input(\"Enter the value:- \")\n",
        "    input_dict.update({key : value})\n",
        "print(\"Dictionary 1\",input_dict)\n",
        "\n",
        "\n",
        "def sort_dictionary_by_values(input_dict, ascending = True):\n",
        "\n",
        "  sorted_items = sorted(input_dict.items(), key=lambda x : x[1],reverse =not ascending)\n",
        "\n",
        "  sorted_dict = dict(sorted_items)\n",
        "  return sorted_dict\n",
        "\n",
        "\n",
        "sorted_dict_ascending_order = sort_dictionary_by_values(input_dict)\n",
        "print(\"sorted dictionary in ascending order by values:- \", sorted_dict_ascending_order)\n",
        "\n",
        "sorted_dict_decending_order = sort_dictionary_by_values(input_dict, ascending = False)\n",
        "print(\"Sorted dictionary in descending order by values:- \",sorted_dict_decending_order)\n",
        "\n",
        "\n",
        "\n",
        "\n"
      ],
      "metadata": {
        "id": "q1Nm9Mi9tq-i"
      },
      "execution_count": null,
      "outputs": []
    },
    {
      "cell_type": "code",
      "source": [
        "#problem no 35\n",
        "\n",
        "#write a code that inverts a  dictionary, seapping keys and values . Ensure that the inverted dictionary correctly handles cases where multiple  keys have the same value by storing the keys as a list in the inverted dictionary\n",
        "\n",
        "#Example dictionary\n",
        "my_list = {'a': 1 , 'b' : 2 , 'c' : 3 , 'd' : 4}\n",
        "\n",
        "#invert the dictionary\n",
        "\n",
        "inverted_dict = {}\n",
        "for key, value in my_list.items():\n",
        "  if value in inverted_dict:\n",
        "    inverted_dict[value].append(key)\n",
        "  else:\n",
        "    inverted_dict[value] = [key]\n",
        "\n",
        "print(\"inverted dictionary: \")\n",
        "\n",
        "for value, keys in inverted_dict.items():\n",
        "  print(value, \":\" , keys)\n",
        "\n"
      ],
      "metadata": {
        "id": "w9Pirs70jqL5"
      },
      "execution_count": null,
      "outputs": []
    },
    {
      "cell_type": "code",
      "source": [],
      "metadata": {
        "id": "tSY8fHHC03rR"
      },
      "execution_count": null,
      "outputs": []
    }
  ]
}